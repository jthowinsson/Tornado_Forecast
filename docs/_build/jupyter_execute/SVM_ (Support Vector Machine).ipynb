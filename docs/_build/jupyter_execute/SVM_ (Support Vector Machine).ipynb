{
 "cells": [
  {
   "cell_type": "code",
   "execution_count": null,
   "metadata": {},
   "outputs": [],
   "source": []
  },
  {
   "cell_type": "code",
   "execution_count": 1,
   "metadata": {},
   "outputs": [],
   "source": [
    "import numpy as np \n",
    "import pandas as pd \n",
    "import matplotlib.pyplot as plt\n",
    "import seaborn as sns\n",
    "import warnings\n",
    "warnings.filterwarnings('ignore')\n",
    "import plotly.express as px\n",
    "import plotly.graph_objects as go\n",
    "\n",
    "from sklearn.model_selection import train_test_split\n",
    "from sklearn.linear_model import LinearRegression\n",
    "from sklearn.metrics import mean_squared_error, r2_score\n",
    "\n",
    "\n",
    "\n",
    "import os\n",
    "for dirname, _, filenames in os.walk('/kaggle/input'):\n",
    "    for filename in filenames:\n",
    "        print(os.path.join(dirname, filename))\n",
    "\n"
   ]
  },
  {
   "cell_type": "code",
   "execution_count": 2,
   "metadata": {},
   "outputs": [
    {
     "ename": "FileNotFoundError",
     "evalue": "[Errno 2] No such file or directory: 'C:\\\\docs\\\\DOCTORADO\\\\Machine_Learning/tornados.csv'",
     "output_type": "error",
     "traceback": [
      "\u001b[1;31m---------------------------------------------------------------------------\u001b[0m",
      "\u001b[1;31mFileNotFoundError\u001b[0m                         Traceback (most recent call last)",
      "Cell \u001b[1;32mIn[2], line 2\u001b[0m\n\u001b[0;32m      1\u001b[0m ruta \u001b[38;5;241m=\u001b[39m \u001b[38;5;124mr\u001b[39m\u001b[38;5;124m'\u001b[39m\u001b[38;5;124mC:\u001b[39m\u001b[38;5;124m\\\u001b[39m\u001b[38;5;124mdocs\u001b[39m\u001b[38;5;124m\\\u001b[39m\u001b[38;5;124mDOCTORADO\u001b[39m\u001b[38;5;124m\\\u001b[39m\u001b[38;5;124mMachine_Learning/tornados.csv\u001b[39m\u001b[38;5;124m'\u001b[39m  \n\u001b[1;32m----> 2\u001b[0m df \u001b[38;5;241m=\u001b[39m \u001b[43mpd\u001b[49m\u001b[38;5;241;43m.\u001b[39;49m\u001b[43mread_csv\u001b[49m\u001b[43m(\u001b[49m\u001b[43mruta\u001b[49m\u001b[43m)\u001b[49m \n",
      "File \u001b[1;32m~\\miniconda3\\envs\\ml_venv\\lib\\site-packages\\pandas\\io\\parsers\\readers.py:948\u001b[0m, in \u001b[0;36mread_csv\u001b[1;34m(filepath_or_buffer, sep, delimiter, header, names, index_col, usecols, dtype, engine, converters, true_values, false_values, skipinitialspace, skiprows, skipfooter, nrows, na_values, keep_default_na, na_filter, verbose, skip_blank_lines, parse_dates, infer_datetime_format, keep_date_col, date_parser, date_format, dayfirst, cache_dates, iterator, chunksize, compression, thousands, decimal, lineterminator, quotechar, quoting, doublequote, escapechar, comment, encoding, encoding_errors, dialect, on_bad_lines, delim_whitespace, low_memory, memory_map, float_precision, storage_options, dtype_backend)\u001b[0m\n\u001b[0;32m    935\u001b[0m kwds_defaults \u001b[38;5;241m=\u001b[39m _refine_defaults_read(\n\u001b[0;32m    936\u001b[0m     dialect,\n\u001b[0;32m    937\u001b[0m     delimiter,\n\u001b[1;32m   (...)\u001b[0m\n\u001b[0;32m    944\u001b[0m     dtype_backend\u001b[38;5;241m=\u001b[39mdtype_backend,\n\u001b[0;32m    945\u001b[0m )\n\u001b[0;32m    946\u001b[0m kwds\u001b[38;5;241m.\u001b[39mupdate(kwds_defaults)\n\u001b[1;32m--> 948\u001b[0m \u001b[38;5;28;01mreturn\u001b[39;00m \u001b[43m_read\u001b[49m\u001b[43m(\u001b[49m\u001b[43mfilepath_or_buffer\u001b[49m\u001b[43m,\u001b[49m\u001b[43m \u001b[49m\u001b[43mkwds\u001b[49m\u001b[43m)\u001b[49m\n",
      "File \u001b[1;32m~\\miniconda3\\envs\\ml_venv\\lib\\site-packages\\pandas\\io\\parsers\\readers.py:611\u001b[0m, in \u001b[0;36m_read\u001b[1;34m(filepath_or_buffer, kwds)\u001b[0m\n\u001b[0;32m    608\u001b[0m _validate_names(kwds\u001b[38;5;241m.\u001b[39mget(\u001b[38;5;124m\"\u001b[39m\u001b[38;5;124mnames\u001b[39m\u001b[38;5;124m\"\u001b[39m, \u001b[38;5;28;01mNone\u001b[39;00m))\n\u001b[0;32m    610\u001b[0m \u001b[38;5;66;03m# Create the parser.\u001b[39;00m\n\u001b[1;32m--> 611\u001b[0m parser \u001b[38;5;241m=\u001b[39m TextFileReader(filepath_or_buffer, \u001b[38;5;241m*\u001b[39m\u001b[38;5;241m*\u001b[39mkwds)\n\u001b[0;32m    613\u001b[0m \u001b[38;5;28;01mif\u001b[39;00m chunksize \u001b[38;5;129;01mor\u001b[39;00m iterator:\n\u001b[0;32m    614\u001b[0m     \u001b[38;5;28;01mreturn\u001b[39;00m parser\n",
      "File \u001b[1;32m~\\miniconda3\\envs\\ml_venv\\lib\\site-packages\\pandas\\io\\parsers\\readers.py:1448\u001b[0m, in \u001b[0;36mTextFileReader.__init__\u001b[1;34m(self, f, engine, **kwds)\u001b[0m\n\u001b[0;32m   1445\u001b[0m     \u001b[38;5;28mself\u001b[39m\u001b[38;5;241m.\u001b[39moptions[\u001b[38;5;124m\"\u001b[39m\u001b[38;5;124mhas_index_names\u001b[39m\u001b[38;5;124m\"\u001b[39m] \u001b[38;5;241m=\u001b[39m kwds[\u001b[38;5;124m\"\u001b[39m\u001b[38;5;124mhas_index_names\u001b[39m\u001b[38;5;124m\"\u001b[39m]\n\u001b[0;32m   1447\u001b[0m \u001b[38;5;28mself\u001b[39m\u001b[38;5;241m.\u001b[39mhandles: IOHandles \u001b[38;5;241m|\u001b[39m \u001b[38;5;28;01mNone\u001b[39;00m \u001b[38;5;241m=\u001b[39m \u001b[38;5;28;01mNone\u001b[39;00m\n\u001b[1;32m-> 1448\u001b[0m \u001b[38;5;28mself\u001b[39m\u001b[38;5;241m.\u001b[39m_engine \u001b[38;5;241m=\u001b[39m \u001b[38;5;28;43mself\u001b[39;49m\u001b[38;5;241;43m.\u001b[39;49m\u001b[43m_make_engine\u001b[49m\u001b[43m(\u001b[49m\u001b[43mf\u001b[49m\u001b[43m,\u001b[49m\u001b[43m \u001b[49m\u001b[38;5;28;43mself\u001b[39;49m\u001b[38;5;241;43m.\u001b[39;49m\u001b[43mengine\u001b[49m\u001b[43m)\u001b[49m\n",
      "File \u001b[1;32m~\\miniconda3\\envs\\ml_venv\\lib\\site-packages\\pandas\\io\\parsers\\readers.py:1705\u001b[0m, in \u001b[0;36mTextFileReader._make_engine\u001b[1;34m(self, f, engine)\u001b[0m\n\u001b[0;32m   1703\u001b[0m     \u001b[38;5;28;01mif\u001b[39;00m \u001b[38;5;124m\"\u001b[39m\u001b[38;5;124mb\u001b[39m\u001b[38;5;124m\"\u001b[39m \u001b[38;5;129;01mnot\u001b[39;00m \u001b[38;5;129;01min\u001b[39;00m mode:\n\u001b[0;32m   1704\u001b[0m         mode \u001b[38;5;241m+\u001b[39m\u001b[38;5;241m=\u001b[39m \u001b[38;5;124m\"\u001b[39m\u001b[38;5;124mb\u001b[39m\u001b[38;5;124m\"\u001b[39m\n\u001b[1;32m-> 1705\u001b[0m \u001b[38;5;28mself\u001b[39m\u001b[38;5;241m.\u001b[39mhandles \u001b[38;5;241m=\u001b[39m \u001b[43mget_handle\u001b[49m\u001b[43m(\u001b[49m\n\u001b[0;32m   1706\u001b[0m \u001b[43m    \u001b[49m\u001b[43mf\u001b[49m\u001b[43m,\u001b[49m\n\u001b[0;32m   1707\u001b[0m \u001b[43m    \u001b[49m\u001b[43mmode\u001b[49m\u001b[43m,\u001b[49m\n\u001b[0;32m   1708\u001b[0m \u001b[43m    \u001b[49m\u001b[43mencoding\u001b[49m\u001b[38;5;241;43m=\u001b[39;49m\u001b[38;5;28;43mself\u001b[39;49m\u001b[38;5;241;43m.\u001b[39;49m\u001b[43moptions\u001b[49m\u001b[38;5;241;43m.\u001b[39;49m\u001b[43mget\u001b[49m\u001b[43m(\u001b[49m\u001b[38;5;124;43m\"\u001b[39;49m\u001b[38;5;124;43mencoding\u001b[39;49m\u001b[38;5;124;43m\"\u001b[39;49m\u001b[43m,\u001b[49m\u001b[43m \u001b[49m\u001b[38;5;28;43;01mNone\u001b[39;49;00m\u001b[43m)\u001b[49m\u001b[43m,\u001b[49m\n\u001b[0;32m   1709\u001b[0m \u001b[43m    \u001b[49m\u001b[43mcompression\u001b[49m\u001b[38;5;241;43m=\u001b[39;49m\u001b[38;5;28;43mself\u001b[39;49m\u001b[38;5;241;43m.\u001b[39;49m\u001b[43moptions\u001b[49m\u001b[38;5;241;43m.\u001b[39;49m\u001b[43mget\u001b[49m\u001b[43m(\u001b[49m\u001b[38;5;124;43m\"\u001b[39;49m\u001b[38;5;124;43mcompression\u001b[39;49m\u001b[38;5;124;43m\"\u001b[39;49m\u001b[43m,\u001b[49m\u001b[43m \u001b[49m\u001b[38;5;28;43;01mNone\u001b[39;49;00m\u001b[43m)\u001b[49m\u001b[43m,\u001b[49m\n\u001b[0;32m   1710\u001b[0m \u001b[43m    \u001b[49m\u001b[43mmemory_map\u001b[49m\u001b[38;5;241;43m=\u001b[39;49m\u001b[38;5;28;43mself\u001b[39;49m\u001b[38;5;241;43m.\u001b[39;49m\u001b[43moptions\u001b[49m\u001b[38;5;241;43m.\u001b[39;49m\u001b[43mget\u001b[49m\u001b[43m(\u001b[49m\u001b[38;5;124;43m\"\u001b[39;49m\u001b[38;5;124;43mmemory_map\u001b[39;49m\u001b[38;5;124;43m\"\u001b[39;49m\u001b[43m,\u001b[49m\u001b[43m \u001b[49m\u001b[38;5;28;43;01mFalse\u001b[39;49;00m\u001b[43m)\u001b[49m\u001b[43m,\u001b[49m\n\u001b[0;32m   1711\u001b[0m \u001b[43m    \u001b[49m\u001b[43mis_text\u001b[49m\u001b[38;5;241;43m=\u001b[39;49m\u001b[43mis_text\u001b[49m\u001b[43m,\u001b[49m\n\u001b[0;32m   1712\u001b[0m \u001b[43m    \u001b[49m\u001b[43merrors\u001b[49m\u001b[38;5;241;43m=\u001b[39;49m\u001b[38;5;28;43mself\u001b[39;49m\u001b[38;5;241;43m.\u001b[39;49m\u001b[43moptions\u001b[49m\u001b[38;5;241;43m.\u001b[39;49m\u001b[43mget\u001b[49m\u001b[43m(\u001b[49m\u001b[38;5;124;43m\"\u001b[39;49m\u001b[38;5;124;43mencoding_errors\u001b[39;49m\u001b[38;5;124;43m\"\u001b[39;49m\u001b[43m,\u001b[49m\u001b[43m \u001b[49m\u001b[38;5;124;43m\"\u001b[39;49m\u001b[38;5;124;43mstrict\u001b[39;49m\u001b[38;5;124;43m\"\u001b[39;49m\u001b[43m)\u001b[49m\u001b[43m,\u001b[49m\n\u001b[0;32m   1713\u001b[0m \u001b[43m    \u001b[49m\u001b[43mstorage_options\u001b[49m\u001b[38;5;241;43m=\u001b[39;49m\u001b[38;5;28;43mself\u001b[39;49m\u001b[38;5;241;43m.\u001b[39;49m\u001b[43moptions\u001b[49m\u001b[38;5;241;43m.\u001b[39;49m\u001b[43mget\u001b[49m\u001b[43m(\u001b[49m\u001b[38;5;124;43m\"\u001b[39;49m\u001b[38;5;124;43mstorage_options\u001b[39;49m\u001b[38;5;124;43m\"\u001b[39;49m\u001b[43m,\u001b[49m\u001b[43m \u001b[49m\u001b[38;5;28;43;01mNone\u001b[39;49;00m\u001b[43m)\u001b[49m\u001b[43m,\u001b[49m\n\u001b[0;32m   1714\u001b[0m \u001b[43m\u001b[49m\u001b[43m)\u001b[49m\n\u001b[0;32m   1715\u001b[0m \u001b[38;5;28;01massert\u001b[39;00m \u001b[38;5;28mself\u001b[39m\u001b[38;5;241m.\u001b[39mhandles \u001b[38;5;129;01mis\u001b[39;00m \u001b[38;5;129;01mnot\u001b[39;00m \u001b[38;5;28;01mNone\u001b[39;00m\n\u001b[0;32m   1716\u001b[0m f \u001b[38;5;241m=\u001b[39m \u001b[38;5;28mself\u001b[39m\u001b[38;5;241m.\u001b[39mhandles\u001b[38;5;241m.\u001b[39mhandle\n",
      "File \u001b[1;32m~\\miniconda3\\envs\\ml_venv\\lib\\site-packages\\pandas\\io\\common.py:863\u001b[0m, in \u001b[0;36mget_handle\u001b[1;34m(path_or_buf, mode, encoding, compression, memory_map, is_text, errors, storage_options)\u001b[0m\n\u001b[0;32m    858\u001b[0m \u001b[38;5;28;01melif\u001b[39;00m \u001b[38;5;28misinstance\u001b[39m(handle, \u001b[38;5;28mstr\u001b[39m):\n\u001b[0;32m    859\u001b[0m     \u001b[38;5;66;03m# Check whether the filename is to be opened in binary mode.\u001b[39;00m\n\u001b[0;32m    860\u001b[0m     \u001b[38;5;66;03m# Binary mode does not support 'encoding' and 'newline'.\u001b[39;00m\n\u001b[0;32m    861\u001b[0m     \u001b[38;5;28;01mif\u001b[39;00m ioargs\u001b[38;5;241m.\u001b[39mencoding \u001b[38;5;129;01mand\u001b[39;00m \u001b[38;5;124m\"\u001b[39m\u001b[38;5;124mb\u001b[39m\u001b[38;5;124m\"\u001b[39m \u001b[38;5;129;01mnot\u001b[39;00m \u001b[38;5;129;01min\u001b[39;00m ioargs\u001b[38;5;241m.\u001b[39mmode:\n\u001b[0;32m    862\u001b[0m         \u001b[38;5;66;03m# Encoding\u001b[39;00m\n\u001b[1;32m--> 863\u001b[0m         handle \u001b[38;5;241m=\u001b[39m \u001b[38;5;28;43mopen\u001b[39;49m\u001b[43m(\u001b[49m\n\u001b[0;32m    864\u001b[0m \u001b[43m            \u001b[49m\u001b[43mhandle\u001b[49m\u001b[43m,\u001b[49m\n\u001b[0;32m    865\u001b[0m \u001b[43m            \u001b[49m\u001b[43mioargs\u001b[49m\u001b[38;5;241;43m.\u001b[39;49m\u001b[43mmode\u001b[49m\u001b[43m,\u001b[49m\n\u001b[0;32m    866\u001b[0m \u001b[43m            \u001b[49m\u001b[43mencoding\u001b[49m\u001b[38;5;241;43m=\u001b[39;49m\u001b[43mioargs\u001b[49m\u001b[38;5;241;43m.\u001b[39;49m\u001b[43mencoding\u001b[49m\u001b[43m,\u001b[49m\n\u001b[0;32m    867\u001b[0m \u001b[43m            \u001b[49m\u001b[43merrors\u001b[49m\u001b[38;5;241;43m=\u001b[39;49m\u001b[43merrors\u001b[49m\u001b[43m,\u001b[49m\n\u001b[0;32m    868\u001b[0m \u001b[43m            \u001b[49m\u001b[43mnewline\u001b[49m\u001b[38;5;241;43m=\u001b[39;49m\u001b[38;5;124;43m\"\u001b[39;49m\u001b[38;5;124;43m\"\u001b[39;49m\u001b[43m,\u001b[49m\n\u001b[0;32m    869\u001b[0m \u001b[43m        \u001b[49m\u001b[43m)\u001b[49m\n\u001b[0;32m    870\u001b[0m     \u001b[38;5;28;01melse\u001b[39;00m:\n\u001b[0;32m    871\u001b[0m         \u001b[38;5;66;03m# Binary mode\u001b[39;00m\n\u001b[0;32m    872\u001b[0m         handle \u001b[38;5;241m=\u001b[39m \u001b[38;5;28mopen\u001b[39m(handle, ioargs\u001b[38;5;241m.\u001b[39mmode)\n",
      "\u001b[1;31mFileNotFoundError\u001b[0m: [Errno 2] No such file or directory: 'C:\\\\docs\\\\DOCTORADO\\\\Machine_Learning/tornados.csv'"
     ]
    }
   ],
   "source": [
    "ruta = r'C:\\docs\\DOCTORADO\\Machine_Learning/tornados.csv'  \n",
    "df = pd.read_csv(ruta) \n"
   ]
  },
  {
   "cell_type": "markdown",
   "metadata": {},
   "source": [
    "## Máquinas de soporte vectorial (SVM)"
   ]
  },
  {
   "cell_type": "code",
   "execution_count": 268,
   "metadata": {},
   "outputs": [
    {
     "name": "stdout",
     "output_type": "stream",
     "text": [
      "📊 Matriz de Confusión:\n",
      " [[12026     0]\n",
      " [  394    36]]\n",
      "\n",
      "📋 Reporte de Clasificación:\n",
      "               precision    recall  f1-score   support\n",
      "\n",
      "           0       0.97      1.00      0.98     12026\n",
      "           1       1.00      0.08      0.15       430\n",
      "\n",
      "    accuracy                           0.97     12456\n",
      "   macro avg       0.98      0.54      0.57     12456\n",
      "weighted avg       0.97      0.97      0.96     12456\n",
      "\n"
     ]
    },
    {
     "data": {
      "text/html": [
       "<div>\n",
       "<style scoped>\n",
       "    .dataframe tbody tr th:only-of-type {\n",
       "        vertical-align: middle;\n",
       "    }\n",
       "\n",
       "    .dataframe tbody tr th {\n",
       "        vertical-align: top;\n",
       "    }\n",
       "\n",
       "    .dataframe thead th {\n",
       "        text-align: right;\n",
       "    }\n",
       "</style>\n",
       "<table border=\"1\" class=\"dataframe\">\n",
       "  <thead>\n",
       "    <tr style=\"text-align: right;\">\n",
       "      <th></th>\n",
       "      <th>Modelo</th>\n",
       "      <th>Accuracy</th>\n",
       "      <th>Precision</th>\n",
       "      <th>Recall</th>\n",
       "      <th>F1-score</th>\n",
       "      <th>AUC</th>\n",
       "      <th>CPU time (s)</th>\n",
       "    </tr>\n",
       "  </thead>\n",
       "  <tbody>\n",
       "    <tr>\n",
       "      <th>0</th>\n",
       "      <td>SVM (kernel linear, sin SMOTE)</td>\n",
       "      <td>0.9684</td>\n",
       "      <td>1.0</td>\n",
       "      <td>0.0837</td>\n",
       "      <td>0.1545</td>\n",
       "      <td>0.9016</td>\n",
       "      <td>38.0802</td>\n",
       "    </tr>\n",
       "  </tbody>\n",
       "</table>\n",
       "</div>"
      ],
      "text/plain": [
       "                           Modelo  Accuracy  Precision  Recall  F1-score  \\\n",
       "0  SVM (kernel linear, sin SMOTE)    0.9684        1.0  0.0837    0.1545   \n",
       "\n",
       "      AUC  CPU time (s)  \n",
       "0  0.9016       38.0802  "
      ]
     },
     "metadata": {},
     "output_type": "display_data"
    }
   ],
   "source": [
    "import time\n",
    "from sklearn.svm import SVC\n",
    "from sklearn.metrics import (\n",
    "    accuracy_score, precision_score, recall_score,\n",
    "    f1_score, roc_auc_score, confusion_matrix, classification_report\n",
    ")\n",
    "import pandas as pd\n",
    "\n",
    "# 1. Instanciamos el modelo SVM con kernel lineal\n",
    "svm_linear = SVC(kernel='linear', probability=True, random_state=42)\n",
    "\n",
    "# 2. Medir tiempo de entrenamiento\n",
    "start_time = time.time()\n",
    "svm_linear.fit(X_train_scaled, y_train)\n",
    "tiempo_entrenamiento = time.time() - start_time\n",
    "\n",
    "# 3. Predecimos etiquetas y probabilidades\n",
    "y_pred_svm = svm_linear.predict(X_test_scaled)\n",
    "y_prob_svm = svm_linear.predict_proba(X_test_scaled)[:, 1]\n",
    "\n",
    "# 4. Evaluamos y guardamos métricas\n",
    "resultados_svm_linear = pd.DataFrame({\n",
    "    'Modelo': ['SVM (kernel linear, sin SMOTE)'],\n",
    "    'Accuracy': [round(accuracy_score(y_test, y_pred_svm), 4)],\n",
    "    'Precision': [round(precision_score(y_test, y_pred_svm), 4)],\n",
    "    'Recall': [round(recall_score(y_test, y_pred_svm), 4)],\n",
    "    'F1-score': [round(f1_score(y_test, y_pred_svm), 4)],\n",
    "    'AUC': [round(roc_auc_score(y_test, y_prob_svm), 4)],\n",
    "    'CPU time (s)': [round(tiempo_entrenamiento, 4)]\n",
    "})\n",
    "\n",
    "# 5. Mostrar resultados\n",
    "print(\"📊 Matriz de Confusión:\\n\", confusion_matrix(y_test, y_pred_svm))\n",
    "print(\"\\n📋 Reporte de Clasificación:\\n\", classification_report(y_test, y_pred_svm))\n",
    "display(resultados_svm_linear)\n",
    "\n"
   ]
  },
  {
   "cell_type": "markdown",
   "metadata": {},
   "source": [
    "Al analizar los datos se observa: \n",
    "\n",
    " Este modelo parece sobresaliente a primera vista por su accuracy y precisión perfectas, pero tiene un grave problema: detecta apenas el 8% de las muertes reales. Esto significa que ignora el 92% de los casos verdaderamente peligrosos, lo cual es totalmente inaceptable en este contexto. Su alto accuracy se debe al gran desbalance de clases. El tiempo de cómputo es considerable, pero el bajo recall lo descalifica como opción viable."
   ]
  },
  {
   "cell_type": "code",
   "execution_count": 269,
   "metadata": {},
   "outputs": [
    {
     "data": {
      "image/png": "[encoded data removed]",
      "text/plain": [
       "<Figure size 800x600 with 1 Axes>"
      ]
     },
     "metadata": {},
     "output_type": "display_data"
    }
   ],
   "source": [
    "from sklearn.metrics import roc_curve, auc\n",
    "import matplotlib.pyplot as plt\n",
    "\n",
    "# Calcular FPR, TPR y AUC para el SVM\n",
    "fpr_svm, tpr_svm, _ = roc_curve(y_test, y_prob_svm)\n",
    "roc_auc_svm = auc(fpr_svm, tpr_svm)\n",
    "\n",
    "# Graficar\n",
    "plt.figure(figsize=(8,6))\n",
    "plt.plot(fpr_svm, tpr_svm, color='purple', lw=2, label='SVM (AUC = %0.2f)' % roc_auc_svm)\n",
    "plt.plot([0, 1], [0, 1], color='gray', lw=2, linestyle='--')\n",
    "plt.xlabel('False Positive Rate')\n",
    "plt.ylabel('True Positive Rate')\n",
    "plt.title('Curva ROC - SVM (Kernel lineal)')\n",
    "plt.legend(loc=\"lower right\")\n",
    "plt.grid(True)\n",
    "plt.show()"
   ]
  },
  {
   "cell_type": "markdown",
   "metadata": {},
   "source": [
    "La curva ROC del modelo SVM con kernel lineal muestra un AUC de 0.90, lo cual en apariencia sugiere una muy buena capacidad para discriminar entre tornados con y sin víctimas mortales. Sin embargo, esta impresión positiva se desmiente al observar las métricas detalladas del modelo: aunque la accuracy es alta (0.9684) y la precision es perfecta (1.0), el recall es extremadamente bajo (0.0837), lo que significa que el modelo solo identifica correctamente el 8.3% de los casos con muertes reales. Esto se traduce en un F1-score de apenas 0.1545. En términos prácticos, el modelo evita falsos positivos a toda costa, pero a cambio deja pasar la mayoría de los eventos críticos que sí causaron muertes. En contextos donde lo más importante es anticipar y salvar vidas, este comportamiento es inaceptable, y por tanto, el modelo resulta inadecuado a pesar de su buena curva ROC."
   ]
  },
  {
   "cell_type": "markdown",
   "metadata": {},
   "source": [
    "## SVM class_weight='balanced"
   ]
  },
  {
   "cell_type": "markdown",
   "metadata": {},
   "source": [
    "Aplicaremos class_weight='balanced' para buscar un mejor recall para la clase 1:"
   ]
  },
  {
   "cell_type": "code",
   "execution_count": 278,
   "metadata": {},
   "outputs": [
    {
     "name": "stdout",
     "output_type": "stream",
     "text": [
      "📊 Matriz de Confusión:\n",
      " [[10842  1184]\n",
      " [   68   362]]\n",
      "\n",
      "📋 Reporte de Clasificación:\n",
      "               precision    recall  f1-score   support\n",
      "\n",
      "           0       0.99      0.90      0.95     12026\n",
      "           1       0.23      0.84      0.37       430\n",
      "\n",
      "    accuracy                           0.90     12456\n",
      "   macro avg       0.61      0.87      0.66     12456\n",
      "weighted avg       0.97      0.90      0.93     12456\n",
      "\n",
      "                                       Modelo  Accuracy  Precision  Recall  \\\n",
      "0  SVM (kernel linear, class_weight=balanced)    0.8995     0.2342  0.8419   \n",
      "\n",
      "   F1-score     AUC  CPU time (s)  \n",
      "0    0.3664  0.9394      196.9632  \n"
     ]
    },
    {
     "data": {
      "text/html": [
       "<div>\n",
       "<style scoped>\n",
       "    .dataframe tbody tr th:only-of-type {\n",
       "        vertical-align: middle;\n",
       "    }\n",
       "\n",
       "    .dataframe tbody tr th {\n",
       "        vertical-align: top;\n",
       "    }\n",
       "\n",
       "    .dataframe thead th {\n",
       "        text-align: right;\n",
       "    }\n",
       "</style>\n",
       "<table border=\"1\" class=\"dataframe\">\n",
       "  <thead>\n",
       "    <tr style=\"text-align: right;\">\n",
       "      <th></th>\n",
       "      <th>Modelo</th>\n",
       "      <th>Accuracy</th>\n",
       "      <th>Precision</th>\n",
       "      <th>Recall</th>\n",
       "      <th>F1-score</th>\n",
       "      <th>AUC</th>\n",
       "      <th>CPU time (s)</th>\n",
       "    </tr>\n",
       "  </thead>\n",
       "  <tbody>\n",
       "    <tr>\n",
       "      <th>0</th>\n",
       "      <td>SVM (kernel linear, class_weight=balanced)</td>\n",
       "      <td>0.8995</td>\n",
       "      <td>0.2342</td>\n",
       "      <td>0.8419</td>\n",
       "      <td>0.3664</td>\n",
       "      <td>0.9394</td>\n",
       "      <td>196.9632</td>\n",
       "    </tr>\n",
       "  </tbody>\n",
       "</table>\n",
       "</div>"
      ],
      "text/plain": [
       "                                       Modelo  Accuracy  Precision  Recall  \\\n",
       "0  SVM (kernel linear, class_weight=balanced)    0.8995     0.2342  0.8419   \n",
       "\n",
       "   F1-score     AUC  CPU time (s)  \n",
       "0    0.3664  0.9394      196.9632  "
      ]
     },
     "metadata": {},
     "output_type": "display_data"
    }
   ],
   "source": [
    "import time\n",
    "from sklearn.svm import SVC\n",
    "from sklearn.metrics import (\n",
    "    accuracy_score, precision_score, recall_score,\n",
    "    f1_score, roc_auc_score, confusion_matrix, classification_report\n",
    ")\n",
    "import pandas as pd\n",
    "\n",
    "# 1. Instanciar el modelo con balanceo de clases\n",
    "svm_balanced = SVC(kernel='linear', probability=True, class_weight='balanced', random_state=42)\n",
    "\n",
    "# 2. Medir tiempo de entrenamiento\n",
    "start_time = time.time()\n",
    "svm_balanced.fit(X_train_scaled, y_train)\n",
    "tiempo_entrenamiento = time.time() - start_time\n",
    "\n",
    "# 3. Predecir etiquetas y probabilidades\n",
    "y_pred_svm_bal = svm_balanced.predict(X_test_scaled)\n",
    "y_prob_svm_bal = svm_balanced.predict_proba(X_test_scaled)[:, 1]\n",
    "\n",
    "# 4. Evaluar y guardar métricas\n",
    "resultados_svm_bal = pd.DataFrame({\n",
    "    'Modelo': ['SVM (kernel linear, class_weight=balanced)'],\n",
    "    'Accuracy': [round(accuracy_score(y_test, y_pred_svm_bal), 4)],\n",
    "    'Precision': [round(precision_score(y_test, y_pred_svm_bal), 4)],\n",
    "    'Recall': [round(recall_score(y_test, y_pred_svm_bal), 4)],\n",
    "    'F1-score': [round(f1_score(y_test, y_pred_svm_bal), 4)],\n",
    "    'AUC': [round(roc_auc_score(y_test, y_prob_svm_bal), 4)],\n",
    "    'CPU time (s)': [round(tiempo_entrenamiento, 4)]\n",
    "})\n",
    "\n",
    "# 5. Mostrar resultados\n",
    "print(\"📊 Matriz de Confusión:\\n\", confusion_matrix(y_test, y_pred_svm_bal))\n",
    "print(\"\\n📋 Reporte de Clasificación:\\n\", classification_report(y_test, y_pred_svm_bal))\n",
    "print (resultados_svm_bal)\n",
    "display(resultados_svm_bal)\n"
   ]
  },
  {
   "cell_type": "markdown",
   "metadata": {},
   "source": [
    "Este modelo sobresale en recall, siendo de los que mejor identifica las muertes (84%). No obstante, su baja precisión sugiere que también genera muchas falsas alarmas. En un contexto donde lo más importante es no dejar pasar eventos con víctimas, es preferible tener este tipo de error. Sin embargo, el costo computacional es alto (197 s), lo que puede limitar su uso en entornos de tiempo real."
   ]
  },
  {
   "cell_type": "markdown",
   "metadata": {},
   "source": [
    "## SVM balanceado con SMOTE"
   ]
  },
  {
   "cell_type": "markdown",
   "metadata": {},
   "source": [
    "Ahora vamos a probar con Smote"
   ]
  },
  {
   "cell_type": "code",
   "execution_count": 272,
   "metadata": {},
   "outputs": [
    {
     "name": "stdout",
     "output_type": "stream",
     "text": [
      "📊 Matriz de Confusión:\n",
      " [[11939    87]\n",
      " [  249   181]]\n",
      "\n",
      "📋 Reporte de Clasificación:\n",
      "               precision    recall  f1-score   support\n",
      "\n",
      "           0       0.98      0.99      0.99     12026\n",
      "           1       0.68      0.42      0.52       430\n",
      "\n",
      "    accuracy                           0.97     12456\n",
      "   macro avg       0.83      0.71      0.75     12456\n",
      "weighted avg       0.97      0.97      0.97     12456\n",
      "\n"
     ]
    },
    {
     "data": {
      "text/html": [
       "<div>\n",
       "<style scoped>\n",
       "    .dataframe tbody tr th:only-of-type {\n",
       "        vertical-align: middle;\n",
       "    }\n",
       "\n",
       "    .dataframe tbody tr th {\n",
       "        vertical-align: top;\n",
       "    }\n",
       "\n",
       "    .dataframe thead th {\n",
       "        text-align: right;\n",
       "    }\n",
       "</style>\n",
       "<table border=\"1\" class=\"dataframe\">\n",
       "  <thead>\n",
       "    <tr style=\"text-align: right;\">\n",
       "      <th></th>\n",
       "      <th>Modelo</th>\n",
       "      <th>Accuracy</th>\n",
       "      <th>Precision</th>\n",
       "      <th>Recall</th>\n",
       "      <th>F1-score</th>\n",
       "      <th>AUC</th>\n",
       "      <th>CPU time (s)</th>\n",
       "    </tr>\n",
       "  </thead>\n",
       "  <tbody>\n",
       "    <tr>\n",
       "      <th>0</th>\n",
       "      <td>SVM (kernel linear, con SMOTE)</td>\n",
       "      <td>0.973</td>\n",
       "      <td>0.6754</td>\n",
       "      <td>0.4209</td>\n",
       "      <td>0.5186</td>\n",
       "      <td>0.929</td>\n",
       "      <td>144.9095</td>\n",
       "    </tr>\n",
       "  </tbody>\n",
       "</table>\n",
       "</div>"
      ],
      "text/plain": [
       "                           Modelo  Accuracy  Precision  Recall  F1-score  \\\n",
       "0  SVM (kernel linear, con SMOTE)     0.973     0.6754  0.4209    0.5186   \n",
       "\n",
       "     AUC  CPU time (s)  \n",
       "0  0.929      144.9095  "
      ]
     },
     "metadata": {},
     "output_type": "display_data"
    }
   ],
   "source": [
    "from imblearn.over_sampling import SMOTE # type: ignore\n",
    "from sklearn.svm import SVC\n",
    "from sklearn.preprocessing import StandardScaler\n",
    "from sklearn.metrics import (\n",
    "    accuracy_score, precision_score, recall_score,\n",
    "    f1_score, roc_auc_score, confusion_matrix, classification_report\n",
    ")\n",
    "import pandas as pd\n",
    "import time  # <-- Para medir el tiempo\n",
    "\n",
    "# 1. Aplicar SMOTE\n",
    "smote = SMOTE(random_state=42)\n",
    "X_train_sm, y_train_sm = smote.fit_resample(X_train, y_train)\n",
    "\n",
    "# 2. Escalar los datos\n",
    "scaler = StandardScaler()\n",
    "X_train_sm_scaled = scaler.fit_transform(X_train_sm)\n",
    "X_test_scaled = scaler.transform(X_test)\n",
    "\n",
    "# 3. Instanciar y entrenar el modelo SVM con medición de tiempo\n",
    "start_time = time.time()\n",
    "\n",
    "svm_smote = SVC(kernel='linear', probability=True, random_state=42)\n",
    "svm_smote.fit(X_train_sm_scaled, y_train_sm)\n",
    "\n",
    "end_time = time.time()\n",
    "tiempo_entrenamiento = end_time - start_time\n",
    "\n",
    "# 4. Predecir\n",
    "y_pred = svm_smote.predict(X_test_scaled)\n",
    "y_prob = svm_smote.predict_proba(X_test_scaled)[:, 1]\n",
    "\n",
    "# 5. Evaluar métricas y registrar resultados\n",
    "resultados_svm_smote = pd.DataFrame({\n",
    "    'Modelo': ['SVM (kernel linear, con SMOTE)'],\n",
    "    'Accuracy': [round(accuracy_score(y_test, y_pred), 4)],\n",
    "    'Precision': [round(precision_score(y_test, y_pred), 4)],\n",
    "    'Recall': [round(recall_score(y_test, y_pred), 4)],\n",
    "    'F1-score': [round(f1_score(y_test, y_pred), 4)],\n",
    "    'AUC': [round(roc_auc_score(y_test, y_prob), 4)],\n",
    "    'CPU time (s)': [round(tiempo_entrenamiento, 4)]\n",
    "})\n",
    "\n",
    "# 6. Mostrar resultados\n",
    "print(\"📊 Matriz de Confusión:\\n\", confusion_matrix(y_test, y_pred))\n",
    "print(\"\\n📋 Reporte de Clasificación:\\n\", classification_report(y_test, y_pred))\n",
    "display(resultados_svm_smote)\n",
    "\n"
   ]
  },
  {
   "cell_type": "markdown",
   "metadata": {},
   "source": [
    "Este modelo logra el mejor equilibrio entre recall y precisión, con el F1-score más alto de todos. Aunque no tiene el mejor recall absoluto, detecta casi la mitad de las muertes con una precisión aceptable, lo que lo convierte en un excelente compromiso. El alto AUC y la robustez del modelo lo hacen confiable, aunque su tiempo de cómputo (144 s) sigue siendo alto."
   ]
  },
  {
   "cell_type": "code",
   "execution_count": 273,
   "metadata": {},
   "outputs": [
    {
     "data": {
      "image/png": "[encoded data removed]",
      "text/plain": [
       "<Figure size 800x600 with 1 Axes>"
      ]
     },
     "metadata": {},
     "output_type": "display_data"
    }
   ],
   "source": [
    "from sklearn.metrics import roc_curve, auc\n",
    "import matplotlib.pyplot as plt\n",
    "\n",
    "# 1. Calcular la curva ROC y AUC\n",
    "fpr, tpr, _ = roc_curve(y_test, y_prob)\n",
    "roc_auc = auc(fpr, tpr)\n",
    "\n",
    "# 2. Graficar la curva ROC\n",
    "plt.figure(figsize=(8,6))\n",
    "plt.plot(fpr, tpr, color='darkblue', lw=2, label='SVM con SMOTE (AUC = %0.2f)' % roc_auc)\n",
    "plt.plot([0, 1], [0, 1], color='gray', lw=1.5, linestyle='--')\n",
    "plt.xlabel('Tasa de Falsos Positivos (FPR)')\n",
    "plt.ylabel('Tasa de Verdaderos Positivos (TPR)')\n",
    "plt.title('Curva ROC - SVM con SMOTE')\n",
    "plt.legend(loc=\"lower right\")\n",
    "plt.grid(True)\n",
    "plt.show()\n"
   ]
  },
  {
   "cell_type": "markdown",
   "metadata": {},
   "source": [
    "En problemas como este, relacionados con eventos críticos (como muertes por tornados), la prioridad es detectar todos los casos posibles que puedan representar una amenaza. Esto implica que los falsos negativos deben minimizarse, ya que no identificar un caso de muerte cuando realmente ocurre puede tener consecuencias graves.\n",
    "\n",
    "Por eso, Recall (sensibilidad) es la métrica más importante en este contexto: mide la proporción de verdaderos positivos correctamente identificados.\n",
    "\n",
    "Aunque el modelo puede tener alta precisión o exactitud general (accuracy), si falla en detectar los positivos (muertes), no sería útil desde el punto de vista práctico o de negocio."
   ]
  },
  {
   "cell_type": "markdown",
   "metadata": {},
   "source": [
    "## Aplicación de algoritmos de optimización \n"
   ]
  },
  {
   "cell_type": "markdown",
   "metadata": {},
   "source": [
    "### SGD SVM SGDClassifier (descenso de gradiente estocástico)"
   ]
  },
  {
   "cell_type": "code",
   "execution_count": 274,
   "metadata": {},
   "outputs": [
    {
     "name": "stdout",
     "output_type": "stream",
     "text": [
      "📊 Matriz de Confusión:\n",
      " [[12023     3]\n",
      " [  370    60]]\n",
      "\n",
      "📋 Reporte de Clasificación:\n",
      "               precision    recall  f1-score   support\n",
      "\n",
      "           0       0.97      1.00      0.98     12026\n",
      "           1       0.95      0.14      0.24       430\n",
      "\n",
      "    accuracy                           0.97     12456\n",
      "   macro avg       0.96      0.57      0.61     12456\n",
      "weighted avg       0.97      0.97      0.96     12456\n",
      "\n",
      "\n",
      "📈 Resultados:\n"
     ]
    },
    {
     "data": {
      "text/html": [
       "<div>\n",
       "<style scoped>\n",
       "    .dataframe tbody tr th:only-of-type {\n",
       "        vertical-align: middle;\n",
       "    }\n",
       "\n",
       "    .dataframe tbody tr th {\n",
       "        vertical-align: top;\n",
       "    }\n",
       "\n",
       "    .dataframe thead th {\n",
       "        text-align: right;\n",
       "    }\n",
       "</style>\n",
       "<table border=\"1\" class=\"dataframe\">\n",
       "  <thead>\n",
       "    <tr style=\"text-align: right;\">\n",
       "      <th></th>\n",
       "      <th>Modelo</th>\n",
       "      <th>Accuracy</th>\n",
       "      <th>Precision</th>\n",
       "      <th>Recall</th>\n",
       "      <th>F1-score</th>\n",
       "      <th>AUC</th>\n",
       "      <th>CPU time (s)</th>\n",
       "    </tr>\n",
       "  </thead>\n",
       "  <tbody>\n",
       "    <tr>\n",
       "      <th>0</th>\n",
       "      <td>SVM con SGDClassifier</td>\n",
       "      <td>0.9701</td>\n",
       "      <td>0.9524</td>\n",
       "      <td>0.1395</td>\n",
       "      <td>0.2434</td>\n",
       "      <td>0.8548</td>\n",
       "      <td>0.1687</td>\n",
       "    </tr>\n",
       "  </tbody>\n",
       "</table>\n",
       "</div>"
      ],
      "text/plain": [
       "                  Modelo  Accuracy  Precision  Recall  F1-score     AUC  \\\n",
       "0  SVM con SGDClassifier    0.9701     0.9524  0.1395    0.2434  0.8548   \n",
       "\n",
       "   CPU time (s)  \n",
       "0        0.1687  "
      ]
     },
     "metadata": {},
     "output_type": "display_data"
    }
   ],
   "source": [
    "from sklearn.linear_model import SGDClassifier\n",
    "from sklearn.metrics import (\n",
    "    accuracy_score, precision_score, recall_score,\n",
    "    f1_score, roc_auc_score, confusion_matrix, classification_report\n",
    ")\n",
    "import time\n",
    "import pandas as pd\n",
    "\n",
    "# 1. Instanciar modelo SGDClassifier como SVM lineal\n",
    "sgd_svm = SGDClassifier(loss='hinge', random_state=42)\n",
    "\n",
    "# 2. Medir tiempo de entrenamiento\n",
    "start_time = time.time()\n",
    "sgd_svm.fit(X_train_scaled, y_train)\n",
    "tiempo_entrenamiento = time.time() - start_time\n",
    "\n",
    "# 3. Predecir\n",
    "y_pred_sgd = sgd_svm.predict(X_test_scaled)\n",
    "\n",
    "# 4. Probabilidades (usamos decision_function para aproximar AUC)\n",
    "y_scores = sgd_svm.decision_function(X_test_scaled)\n",
    "\n",
    "# 5. Evaluar y mostrar resultados\n",
    "print(\"📊 Matriz de Confusión:\\n\", confusion_matrix(y_test, y_pred_sgd))\n",
    "print(\"\\n📋 Reporte de Clasificación:\\n\", classification_report(y_test, y_pred_sgd))\n",
    "\n",
    "# 6. Crear DataFrame con métricas\n",
    "resultados_sgd_svm = pd.DataFrame({\n",
    "    'Modelo': ['SVM con SGDClassifier'],\n",
    "    'Accuracy': [round(accuracy_score(y_test, y_pred_sgd), 4)],\n",
    "    'Precision': [round(precision_score(y_test, y_pred_sgd, zero_division=0), 4)],\n",
    "    'Recall': [round(recall_score(y_test, y_pred_sgd), 4)],\n",
    "    'F1-score': [round(f1_score(y_test, y_pred_sgd), 4)],\n",
    "    'AUC': [round(roc_auc_score(y_test, y_scores), 4)],\n",
    "    'CPU time (s)': [round(tiempo_entrenamiento, 4)]\n",
    "})\n",
    "\n",
    "# 7. Mostrar métricas en tabla\n",
    "print(\"\\n📈 Resultados:\")\n",
    "display(resultados_sgd_svm)\n"
   ]
  },
  {
   "cell_type": "markdown",
   "metadata": {},
   "source": [
    "Este modelo es muy conservador, similar al SVM sin SMOTE. Prefiere no equivocarse al predecir muertes (alta precisión), pero detecta muy pocas. Es más rápido (0.16 s), pero su bajo recall lo hace inapropiado si el objetivo es proteger vidas."
   ]
  },
  {
   "cell_type": "markdown",
   "metadata": {},
   "source": [
    "### LinearSVC"
   ]
  },
  {
   "cell_type": "code",
   "execution_count": 275,
   "metadata": {},
   "outputs": [
    {
     "name": "stdout",
     "output_type": "stream",
     "text": [
      "📊 Matriz de Confusión:\n",
      " [[12024     2]\n",
      " [  378    52]]\n",
      "\n",
      "📋 Reporte de Clasificación:\n",
      "               precision    recall  f1-score   support\n",
      "\n",
      "           0       0.97      1.00      0.98     12026\n",
      "           1       0.96      0.12      0.21       430\n",
      "\n",
      "    accuracy                           0.97     12456\n",
      "   macro avg       0.97      0.56      0.60     12456\n",
      "weighted avg       0.97      0.97      0.96     12456\n",
      "\n"
     ]
    },
    {
     "data": {
      "text/html": [
       "<div>\n",
       "<style scoped>\n",
       "    .dataframe tbody tr th:only-of-type {\n",
       "        vertical-align: middle;\n",
       "    }\n",
       "\n",
       "    .dataframe tbody tr th {\n",
       "        vertical-align: top;\n",
       "    }\n",
       "\n",
       "    .dataframe thead th {\n",
       "        text-align: right;\n",
       "    }\n",
       "</style>\n",
       "<table border=\"1\" class=\"dataframe\">\n",
       "  <thead>\n",
       "    <tr style=\"text-align: right;\">\n",
       "      <th></th>\n",
       "      <th>Modelo</th>\n",
       "      <th>Accuracy</th>\n",
       "      <th>Precision</th>\n",
       "      <th>Recall</th>\n",
       "      <th>F1-score</th>\n",
       "      <th>AUC</th>\n",
       "      <th>CPU time (s)</th>\n",
       "    </tr>\n",
       "  </thead>\n",
       "  <tbody>\n",
       "    <tr>\n",
       "      <th>0</th>\n",
       "      <td>LinearSVC (con calibración)</td>\n",
       "      <td>0.9695</td>\n",
       "      <td>0.963</td>\n",
       "      <td>0.1209</td>\n",
       "      <td>0.2149</td>\n",
       "      <td>0.919</td>\n",
       "      <td>3.4848</td>\n",
       "    </tr>\n",
       "  </tbody>\n",
       "</table>\n",
       "</div>"
      ],
      "text/plain": [
       "                        Modelo  Accuracy  Precision  Recall  F1-score    AUC  \\\n",
       "0  LinearSVC (con calibración)    0.9695      0.963  0.1209    0.2149  0.919   \n",
       "\n",
       "   CPU time (s)  \n",
       "0        3.4848  "
      ]
     },
     "metadata": {},
     "output_type": "display_data"
    }
   ],
   "source": [
    "from sklearn.svm import LinearSVC\n",
    "from sklearn.metrics import (\n",
    "    accuracy_score, precision_score, recall_score,\n",
    "    f1_score, roc_auc_score, confusion_matrix, classification_report\n",
    ")\n",
    "from sklearn.calibration import CalibratedClassifierCV\n",
    "import pandas as pd\n",
    "import time\n",
    "\n",
    "# Medir tiempo de entrenamiento\n",
    "inicio = time.time()\n",
    "\n",
    "# Entrenamos con LinearSVC (no tiene predict_proba, así que usamos CalibratedClassifierCV)\n",
    "linear_svc_base = LinearSVC(random_state=42, max_iter=10000)\n",
    "calibrated_svc = CalibratedClassifierCV(linear_svc_base, cv=5)\n",
    "calibrated_svc.fit(X_train_scaled, y_train)\n",
    "\n",
    "fin = time.time()\n",
    "tiempo_entrenamiento = fin - inicio\n",
    "\n",
    "# Predecir\n",
    "y_pred_linear_svc = calibrated_svc.predict(X_test_scaled)\n",
    "y_prob_linear_svc = calibrated_svc.predict_proba(X_test_scaled)[:, 1]\n",
    "\n",
    "# Guardar métricas\n",
    "resultados_linear_svc = pd.DataFrame({\n",
    "    'Modelo': ['LinearSVC (con calibración)'],\n",
    "    'Accuracy': [round(accuracy_score(y_test, y_pred_linear_svc), 4)],\n",
    "    'Precision': [round(precision_score(y_test, y_pred_linear_svc), 4)],\n",
    "    'Recall': [round(recall_score(y_test, y_pred_linear_svc), 4)],\n",
    "    'F1-score': [round(f1_score(y_test, y_pred_linear_svc), 4)],\n",
    "    'AUC': [round(roc_auc_score(y_test, y_prob_linear_svc), 4)],\n",
    "    'CPU time (s)': [round(tiempo_entrenamiento, 4)]\n",
    "})\n",
    "\n",
    "# Verificar matriz y reporte si quieres\n",
    "print(\"📊 Matriz de Confusión:\\n\", confusion_matrix(y_test, y_pred_linear_svc))\n",
    "print(\"\\n📋 Reporte de Clasificación:\\n\", classification_report(y_test, y_pred_linear_svc))\n",
    "\n",
    "display(resultados_linear_svc)"
   ]
  },
  {
   "cell_type": "markdown",
   "metadata": {},
   "source": [
    "Al igual que el anterior, este modelo tiene excelente precisión, pero muy bajo recall. Calibrar el modelo mejora la probabilidad estimada, pero no cambia su comportamiento general: no detecta suficientes muertes. Aunque más rápido que otros SVM, no cumple con el objetivo del problema."
   ]
  },
  {
   "cell_type": "markdown",
   "metadata": {},
   "source": [
    "### RBF con Random Fourier Features"
   ]
  },
  {
   "cell_type": "code",
   "execution_count": 276,
   "metadata": {},
   "outputs": [
    {
     "name": "stdout",
     "output_type": "stream",
     "text": [
      "📊 Matriz de Confusión:\n",
      " [[12026     0]\n",
      " [  430     0]]\n",
      "\n",
      "📋 Reporte de Clasificación:\n",
      "               precision    recall  f1-score   support\n",
      "\n",
      "           0       0.97      1.00      0.98     12026\n",
      "           1       0.00      0.00      0.00       430\n",
      "\n",
      "    accuracy                           0.97     12456\n",
      "   macro avg       0.48      0.50      0.49     12456\n",
      "weighted avg       0.93      0.97      0.95     12456\n",
      "\n"
     ]
    },
    {
     "data": {
      "text/html": [
       "<div>\n",
       "<style scoped>\n",
       "    .dataframe tbody tr th:only-of-type {\n",
       "        vertical-align: middle;\n",
       "    }\n",
       "\n",
       "    .dataframe tbody tr th {\n",
       "        vertical-align: top;\n",
       "    }\n",
       "\n",
       "    .dataframe thead th {\n",
       "        text-align: right;\n",
       "    }\n",
       "</style>\n",
       "<table border=\"1\" class=\"dataframe\">\n",
       "  <thead>\n",
       "    <tr style=\"text-align: right;\">\n",
       "      <th></th>\n",
       "      <th>Modelo</th>\n",
       "      <th>Accuracy</th>\n",
       "      <th>Precision</th>\n",
       "      <th>Recall</th>\n",
       "      <th>F1-score</th>\n",
       "      <th>AUC</th>\n",
       "      <th>CPU time (s)</th>\n",
       "    </tr>\n",
       "  </thead>\n",
       "  <tbody>\n",
       "    <tr>\n",
       "      <th>0</th>\n",
       "      <td>SVM (RBF approx con Random Fourier)</td>\n",
       "      <td>0.9655</td>\n",
       "      <td>0.0</td>\n",
       "      <td>0.0</td>\n",
       "      <td>0.0</td>\n",
       "      <td>0.502</td>\n",
       "      <td>0.1191</td>\n",
       "    </tr>\n",
       "  </tbody>\n",
       "</table>\n",
       "</div>"
      ],
      "text/plain": [
       "                                Modelo  Accuracy  Precision  Recall  F1-score  \\\n",
       "0  SVM (RBF approx con Random Fourier)    0.9655        0.0     0.0       0.0   \n",
       "\n",
       "     AUC  CPU time (s)  \n",
       "0  0.502        0.1191  "
      ]
     },
     "execution_count": 276,
     "metadata": {},
     "output_type": "execute_result"
    }
   ],
   "source": [
    "from sklearn.kernel_approximation import RBFSampler\n",
    "from sklearn.linear_model import SGDClassifier\n",
    "from sklearn.pipeline import make_pipeline\n",
    "from sklearn.metrics import (\n",
    "    accuracy_score, precision_score, recall_score,\n",
    "    f1_score, roc_auc_score, confusion_matrix, classification_report\n",
    ")\n",
    "import pandas as pd\n",
    "import time\n",
    "\n",
    "# Escalarlos  datos\n",
    "scaler = StandardScaler()\n",
    "X_train_scaled = scaler.fit_transform(X_train)\n",
    "X_test_scaled = scaler.transform(X_test)\n",
    "\n",
    "# 1. Crear pipeline con RBFSampler y SGDClassifier\n",
    "rbf_feature = RBFSampler(gamma=1, random_state=42)\n",
    "clf_rbf_sgd = make_pipeline(rbf_feature, SGDClassifier(max_iter=1000, tol=1e-3, random_state=42))\n",
    "\n",
    "# 2. Entrenar el modelo y registrar tiempo de CPU\n",
    "start_time = time.time()\n",
    "clf_rbf_sgd.fit(X_train_scaled, y_train)\n",
    "training_time = time.time() - start_time\n",
    "\n",
    "# 3. Predecir en el conjunto de prueba\n",
    "y_pred_rbf = clf_rbf_sgd.predict(X_test_scaled)\n",
    "y_score_rbf = clf_rbf_sgd.decision_function(X_test_scaled)  # Necesario para AUC\n",
    "\n",
    "# 4. Calcular métricas\n",
    "accuracy = round(accuracy_score(y_test, y_pred_rbf), 4)\n",
    "precision = round(precision_score(y_test, y_pred_rbf), 4)\n",
    "recall = round(recall_score(y_test, y_pred_rbf), 4)\n",
    "f1 = round(f1_score(y_test, y_pred_rbf), 4)\n",
    "auc = round(roc_auc_score(y_test, y_score_rbf), 4)\n",
    "\n",
    "# 5. Crear DataFrame con resultados\n",
    "resultados_rbf = pd.DataFrame({\n",
    "    'Modelo': ['SVM (RBF approx con Random Fourier)'],\n",
    "    'Accuracy': [accuracy],\n",
    "    'Precision': [precision],\n",
    "    'Recall': [recall],\n",
    "    'F1-score': [f1],\n",
    "    'AUC': [auc],\n",
    "    'CPU time (s)': [round(training_time, 4)]\n",
    "})\n",
    "\n",
    "# 6. Mostrar matriz de confusión y reporte\n",
    "print(\"📊 Matriz de Confusión:\\n\", confusion_matrix(y_test, y_pred_rbf))\n",
    "print(\"\\n📋 Reporte de Clasificación:\\n\", classification_report(y_test, y_pred_rbf))\n",
    "\n",
    "# 7. Ver resultados en tabla\n",
    "resultados_rbf\n"
   ]
  },
  {
   "cell_type": "markdown",
   "metadata": {},
   "source": [
    "El modelo falló por completo al clasificar correctamente la clase minoritaria. Posiblemente se debe a una mala configuración del kernel aproximado o problemas con la transformación random Fourier. Totalmente descartado.\n",
    "\n"
   ]
  }
 ],
 "metadata": {
  "kernelspec": {
   "display_name": "ml_gpu",
   "language": "python",
   "name": "python3"
  },
  "language_info": {
   "codemirror_mode": {
    "name": "ipython",
    "version": 3
   },
   "file_extension": ".py",
   "mimetype": "text/x-python",
   "name": "python",
   "nbconvert_exporter": "python",
   "pygments_lexer": "ipython3",
   "version": "3.9.21"
  }
 },
 "nbformat": 4,
 "nbformat_minor": 2
}