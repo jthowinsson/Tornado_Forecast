{
 "cells": [
  {
   "cell_type": "code",
   "execution_count": 1,
   "metadata": {},
   "outputs": [],
   "source": [
    "import numpy as np \n",
    "import pandas as pd \n",
    "import matplotlib.pyplot as plt\n",
    "import seaborn as sns\n",
    "import warnings\n",
    "warnings.filterwarnings('ignore')\n",
    "import plotly.express as px\n",
    "import plotly.graph_objects as go\n",
    "\n",
    "from sklearn.model_selection import train_test_split\n",
    "from sklearn.linear_model import LinearRegression\n",
    "from sklearn.metrics import mean_squared_error, r2_score\n",
    "\n",
    "\n",
    "\n",
    "import os\n",
    "for dirname, _, filenames in os.walk('/kaggle/input'):\n",
    "    for filename in filenames:\n",
    "        print(os.path.join(dirname, filename))"
   ]
  },
  {
   "cell_type": "code",
   "execution_count": 2,
   "metadata": {},
   "outputs": [
    {
     "data": {
      "text/plain": [
       "om                  0\n",
       "yr                  0\n",
       "mo                  0\n",
       "dy                  0\n",
       "date                0\n",
       "time                0\n",
       "tz                  0\n",
       "datetime_utc        0\n",
       "st                  0\n",
       "stf                 0\n",
       "mag               756\n",
       "inj                 0\n",
       "fat                 0\n",
       "loss            27170\n",
       "slat                0\n",
       "slon                0\n",
       "elat                0\n",
       "elon                0\n",
       "len                 0\n",
       "wid                 0\n",
       "ns                  0\n",
       "sn                  0\n",
       "f1                  0\n",
       "f2                  0\n",
       "f3                  0\n",
       "f4                  0\n",
       "fc                  0\n",
       "dtype: int64"
      ]
     },
     "execution_count": 2,
     "metadata": {},
     "output_type": "execute_result"
    }
   ],
   "source": [
    "ruta = r'/Users/instructorzamora/Documents/3_Maestria_Estadistica_UNINORTE/3_Tercer_Semestre/Machine_Learning/tornados.csv.zip'  \n",
    "df = pd.read_csv(ruta)\n",
    "df.isnull().sum()"
   ]
  },
  {
   "cell_type": "code",
   "execution_count": 3,
   "metadata": {},
   "outputs": [],
   "source": [
    "df['loss'] = df['loss'].replace(0, pd.NA)\n",
    "df['loss'] = df['loss'].interpolate(method='linear')\n",
    "# Imputar los valores NaN con la media de la columna 'mag'\n",
    "df['mag'] = df['mag'].fillna(df['mag'].mean())"
   ]
  },
  {
   "cell_type": "code",
   "execution_count": 4,
   "metadata": {},
   "outputs": [
    {
     "data": {
      "text/plain": [
       "(68693, 27)"
      ]
     },
     "execution_count": 4,
     "metadata": {},
     "output_type": "execute_result"
    }
   ],
   "source": [
    "df.shape"
   ]
  },
  {
   "cell_type": "markdown",
   "metadata": {},
   "source": [
    "Implementación Regresión Lasso L1"
   ]
  },
  {
   "cell_type": "code",
   "execution_count": 5,
   "metadata": {},
   "outputs": [],
   "source": [
    "import numpy as np"
   ]
  },
  {
   "cell_type": "code",
   "execution_count": 6,
   "metadata": {},
   "outputs": [],
   "source": [
    "# Definir X y y (asegúrate de que ya tienes estas variables previamente definidas)\n",
    "X = df[['mag', 'slat', 'slon', 'elat', 'elon', 'len', 'wid','fat','f1', 'f2', 'f3', 'f4','loss']]\n",
    "y = df['inj']\n",
    "\n",
    "# Dividir los datos en conjunto de entrenamiento y prueba (80% entrenamiento, 20% prueba)\n",
    "X_train, X_test, y_train, y_test = train_test_split(X, y, test_size=0.2, random_state=42)\n",
    "\n",
    "# Crear y ajustar el modelo de regresión lineal\n",
    "lr = LinearRegression().fit(X_train, y_train)"
   ]
  },
  {
   "cell_type": "code",
   "execution_count": 7,
   "metadata": {},
   "outputs": [
    {
     "name": "stdout",
     "output_type": "stream",
     "text": [
      "Training set score: 0.59\n",
      "Test set score: 0.65\n",
      "Number of features used: 9\n",
      "Coeficientes del modelo Lasso:\n",
      "mag     0.000000e+00\n",
      "slat   -0.000000e+00\n",
      "slon    7.539867e-03\n",
      "elat   -0.000000e+00\n",
      "elon    5.577088e-03\n",
      "len     1.695515e-01\n",
      "wid     2.760373e-03\n",
      "fat     7.099604e+00\n",
      "f1     -4.412743e-04\n",
      "f2      2.441023e-03\n",
      "f3      6.501204e-04\n",
      "f4      0.000000e+00\n",
      "loss    1.289027e-07\n",
      "dtype: float64\n",
      "\n",
      "Intercepto del modelo Lasso:\n",
      "0.7162750490559678\n"
     ]
    }
   ],
   "source": [
    "from sklearn.linear_model import Lasso\n",
    "lasso = Lasso().fit(X_train, y_train)\n",
    "print(\"Training set score: {:.2f}\".format(lasso.score(X_train, y_train)))\n",
    "print(\"Test set score: {:.2f}\".format(lasso.score(X_test, y_test)))\n",
    "print(\"Number of features used: {}\".format(np.sum(lasso.coef_ != 0)))\n",
    "\n",
    "# Ver los coeficientes de cada variable en el modelo\n",
    "coeficientes = pd.Series(lasso.coef_, index=X_train.columns)\n",
    "\n",
    "# Ver el intercepto del modelo\n",
    "intercepto = lasso.intercept_\n",
    "\n",
    "# Mostrar los coeficientes y el intercepto\n",
    "print(\"Coeficientes del modelo Lasso:\")\n",
    "print(coeficientes)\n",
    "\n",
    "print(\"\\nIntercepto del modelo Lasso:\")\n",
    "print(intercepto)\n"
   ]
  },
  {
   "cell_type": "code",
   "execution_count": 8,
   "metadata": {},
   "outputs": [
    {
     "name": "stdout",
     "output_type": "stream",
     "text": [
      "Training set score: 0.59\n",
      "Test set score: 0.66\n",
      "Number of features used: 13\n",
      "Coeficientes del modelo lasso001:\n",
      "mag     1.022849e+00\n",
      "slat   -2.163464e-02\n",
      "slon    6.103477e-03\n",
      "elat    1.443582e-02\n",
      "elon    9.277690e-03\n",
      "len     1.329007e-01\n",
      "wid     9.106679e-04\n",
      "fat     7.640309e+00\n",
      "f1     -6.663740e-04\n",
      "f2      9.927145e-04\n",
      "f3      1.946659e-03\n",
      "f4      9.585565e-03\n",
      "loss    1.143144e-07\n",
      "dtype: float64\n",
      "\n",
      "Intercepto del modelo lasso001:\n",
      "0.8033124394702692\n"
     ]
    }
   ],
   "source": [
    "lasso001 = Lasso(alpha=0.01, max_iter=100000).fit(X_train, y_train)\n",
    "print(\"Training set score: {:.2f}\".format(lasso001.score(X_train, y_train)))\n",
    "print(\"Test set score: {:.2f}\".format(lasso001.score(X_test, y_test)))\n",
    "print(\"Number of features used: {}\".format(np.sum(lasso001.coef_ != 0)))\n",
    "\n",
    "# Ver los coeficientes de cada variable en el modelo\n",
    "coeficientes = pd.Series(lasso001.coef_, index=X_train.columns)\n",
    "\n",
    "# Ver el intercepto del modelo\n",
    "intercepto = lasso001.intercept_\n",
    "\n",
    "# Mostrar los coeficientes y el intercepto\n",
    "print(\"Coeficientes del modelo lasso001:\")\n",
    "print(coeficientes)\n",
    "\n",
    "print(\"\\nIntercepto del modelo lasso001:\")\n",
    "print(intercepto)\n"
   ]
  },
  {
   "cell_type": "code",
   "execution_count": 9,
   "metadata": {},
   "outputs": [
    {
     "name": "stdout",
     "output_type": "stream",
     "text": [
      "Training set score: 0.59\n",
      "Test set score: 0.66\n",
      "Number of features used: 13\n",
      "Coeficientes del modelo lasso00001:\n",
      "mag     1.039166e+00\n",
      "slat   -2.339887e-02\n",
      "slon    5.486804e-03\n",
      "elat    1.674618e-02\n",
      "elon    1.015659e-02\n",
      "len     1.322325e-01\n",
      "wid     8.844667e-04\n",
      "fat     7.645438e+00\n",
      "f1     -6.756783e-04\n",
      "f2      9.715061e-04\n",
      "f3      1.961393e-03\n",
      "f4      9.774258e-03\n",
      "loss    1.141645e-07\n",
      "dtype: float64\n",
      "\n",
      "Intercepto del modelo lasso00001:\n",
      "0.8018051980000763\n"
     ]
    }
   ],
   "source": [
    "lasso00001 = Lasso(alpha=0.0001, max_iter=100000).fit(X_train, y_train)\n",
    "print(\"Training set score: {:.2f}\".format(lasso00001.score(X_train, y_train)))\n",
    "print(\"Test set score: {:.2f}\".format(lasso00001.score(X_test, y_test)))\n",
    "print(\"Number of features used: {}\".format(np.sum(lasso00001.coef_ != 0)))\n",
    "\n",
    "# Ver los coeficientes de cada variable en el modelo\n",
    "coeficientes = pd.Series(lasso00001.coef_, index=X_train.columns)\n",
    "\n",
    "# Ver el intercepto del modelo\n",
    "intercepto = lasso00001.intercept_\n",
    "\n",
    "# Mostrar los coeficientes y el intercepto\n",
    "print(\"Coeficientes del modelo lasso00001:\")\n",
    "print(coeficientes)\n",
    "\n",
    "print(\"\\nIntercepto del modelo lasso00001:\")\n",
    "print(intercepto)"
   ]
  },
  {
   "cell_type": "code",
   "execution_count": 15,
   "metadata": {},
   "outputs": [
    {
     "data": {
      "image/png": "[encoded data removed]",
      "text/plain": [
       "<Figure size 2500x800 with 1 Axes>"
      ]
     },
     "metadata": {},
     "output_type": "display_data"
    }
   ],
   "source": [
    "import matplotlib.pyplot as plt\n",
    "import seaborn as sns\n",
    "import seaborn as sns\n",
    "sns.set(font_scale=1.2)\n",
    "\n",
    "\n",
    "# Establecer el tamaño de la fuente\n",
    "sns.set(font_scale=1.2)\n",
    "\n",
    "# Crear la figura\n",
    "plt.figure(figsize=(25, 8))\n",
    "\n",
    "# Graficar los coeficientes para diferentes modelos\n",
    "plt.plot(lasso.coef_, 's', label=\"Lasso alpha=1\")  # Tamaño de marcador aumentado\n",
    "plt.plot(lasso001.coef_, '^', label=\"Lasso alpha=0.01\")\n",
    "plt.plot(lasso00001.coef_, 'v', label=\"Lasso alpha=0.0001\")\n",
    "plt.plot(ridge01.coef_, 'o', label=\"Ridge alpha=0.1\")\n",
    "\n",
    "# Ajustar las etiquetas y las líneas de referencia\n",
    "plt.xlabel(\"Coefficient index\")\n",
    "plt.ylabel(\"Coefficient magnitude\")\n",
    "\n",
    "# Línea horizontal en y = 0 para visualización\n",
    "plt.hlines(0, 0, len(lr.coef_))\n",
    "\n",
    "# Ajustar el límite del eje Y\n",
    "plt.ylim(-0e3, 0e3)  # Ajusta según el rango de los coeficientes (puedes modificar esto)\n",
    "\n",
    "# Cambiar el eje Y a una escala logarítmica si la disparidad es muy grande\n",
    "# plt.yscale('symlog')  # Descomenta esta línea si quieres usar una escala logarítmica\n",
    "\n",
    "# Agregar la leyenda\n",
    "plt.legend()\n",
    "\n",
    "# Mostrar el gráfico\n",
    "plt.show()"
   ]
  }
 ],
 "metadata": {
  "kernelspec": {
   "display_name": "ml_venv",
   "language": "python",
   "name": "python3"
  },
  "language_info": {
   "codemirror_mode": {
    "name": "ipython",
    "version": 3
   },
   "file_extension": ".py",
   "mimetype": "text/x-python",
   "name": "python",
   "nbconvert_exporter": "python",
   "pygments_lexer": "ipython3",
   "version": "3.9.7"
  }
 },
 "nbformat": 4,
 "nbformat_minor": 2
}
